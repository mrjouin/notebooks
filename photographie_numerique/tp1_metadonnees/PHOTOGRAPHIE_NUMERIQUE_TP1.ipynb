{
 "cells": [
  {
   "cell_type": "markdown",
   "metadata": {},
   "source": [
    "# PHOTOGRAPHIE NUMÉRIQUE - TP1\n",
    "---\n",
    "# *Métadonnées d'une image ou photographie*\n",
    "---"
   ]
  },
  {
   "cell_type": "markdown",
   "metadata": {},
   "source": [
    "![head.jpg](head.jpg)"
   ]
  },
  {
   "cell_type": "markdown",
   "metadata": {},
   "source": [
    "**Au préalable :**\n",
    "- créer sur clé USB un dossier nommé `Photographie numérique - TP1` ;\n",
    "- télécharger dans ce dossier les photos se trouvant sur **Jupyter** dans le dossier `PHOTOGRAPHIE_NUMERIQUE_TP1` (ces photos pourront aussi être distribuées par les enseignants).\n",
    "\n",
    "**Vous répondrez aux questions sur une feuille.**"
   ]
  },
  {
   "cell_type": "markdown",
   "metadata": {},
   "source": [
    "---\n",
    "## ÉTAPE 1 : Avec un logiciel en ligne\n",
    "---"
   ]
  },
  {
   "cell_type": "markdown",
   "metadata": {},
   "source": [
    "*Rendez-vous sur ce site : [https://hexed.it/](https://hexed.it/).*  \n",
    "Cliquer sur le bouton en haut à gauche *Ouvrir un fichier* et sélectionner ensuite la photo \"*ete.jpg*\" qui se trouve dans votre dossier.  \n",
    "On peut aussi utiliser le logiciel *HxD* sur ordinateur plutôt que de passer par le site."
   ]
  },
  {
   "cell_type": "markdown",
   "metadata": {},
   "source": [
    "### <i class=\"fa fa-question-circle fa-lg\"></i>  QUESTION 1"
   ]
  },
  {
   "cell_type": "markdown",
   "metadata": {},
   "source": [
    "*Qu’observez-vous ? Quelles informations vous semblent pertinentes ?*"
   ]
  },
  {
   "cell_type": "markdown",
   "metadata": {},
   "source": [
    "**Réponse** :"
   ]
  },
  {
   "cell_type": "markdown",
   "metadata": {},
   "source": [
    "*Double-cliquer pour répondre*"
   ]
  },
  {
   "cell_type": "markdown",
   "metadata": {},
   "source": [
    "### <i class=\"fa fa-question-circle fa-lg\"></i>  QUESTION 2"
   ]
  },
  {
   "cell_type": "markdown",
   "metadata": {},
   "source": [
    "*Quel terme précis désigne ce que représente l’ensemble des informations de ces premières lignes ?*"
   ]
  },
  {
   "cell_type": "markdown",
   "metadata": {},
   "source": [
    "**Réponse** :"
   ]
  },
  {
   "cell_type": "markdown",
   "metadata": {},
   "source": [
    "*Double-cliquer pour répondre*"
   ]
  },
  {
   "cell_type": "markdown",
   "metadata": {},
   "source": [
    "---\n",
    "## ÉTAPE 2 : Menons l'enquête...\n",
    "---"
   ]
  },
  {
   "cell_type": "markdown",
   "metadata": {},
   "source": [
    "*Rendez-vous sur ce site : [http://metapicz.com/#landing](http://metapicz.com/#landing).*  \n",
    "Insérer la photo \"*ete.jpg*\" sur cette application WEB et répondez aux questions ci-dessous."
   ]
  },
  {
   "cell_type": "markdown",
   "metadata": {},
   "source": [
    "### <i class=\"fa fa-question-circle fa-lg\"></i>  QUESTION 3"
   ]
  },
  {
   "cell_type": "markdown",
   "metadata": {},
   "source": [
    "*Quels types d’informations peut-on trouver cette fois ?*"
   ]
  },
  {
   "cell_type": "markdown",
   "metadata": {},
   "source": [
    "**Réponse** :"
   ]
  },
  {
   "cell_type": "markdown",
   "metadata": {},
   "source": [
    "*Double-cliquer pour répondre*"
   ]
  },
  {
   "cell_type": "markdown",
   "metadata": {},
   "source": [
    "### <i class=\"fa fa-question-circle fa-lg\"></i>  QUESTION 4"
   ]
  },
  {
   "cell_type": "markdown",
   "metadata": {},
   "source": [
    "*Avec quel type d’appareil la photo a-t-elle été prise ?*"
   ]
  },
  {
   "cell_type": "markdown",
   "metadata": {},
   "source": [
    "**Réponse** :"
   ]
  },
  {
   "cell_type": "markdown",
   "metadata": {},
   "source": [
    "*Double-cliquer pour répondre*"
   ]
  },
  {
   "cell_type": "markdown",
   "metadata": {},
   "source": [
    "### <i class=\"fa fa-question-circle fa-lg\"></i>  QUESTION 5"
   ]
  },
  {
   "cell_type": "markdown",
   "metadata": {},
   "source": [
    "*Avec un outil de cartographie (Google Earth, Google Maps,Iphigénie, etc.), il faut maintenant déterminer le lieu exact où a été prise cette photographie : rue, ville et code postal !*\n",
    "\n",
    "Liens utiles :\n",
    "- [Google Earth](https://earth.google.com/web/)\n",
    "- [Google Maps](https://www.google.com/maps)\n",
    "- [Géoportail](https://www.geoportail.gouv.fr/)\n",
    "- [Mystère 1...](https://www.coordonnees-gps.fr/)\n",
    "- [Mystère 2...](https://www.gps-longitude-latitude.net/)\n",
    "- [Une petite aide bien précieuse](https://support.google.com/maps/answer/18539?co=GENIE.Platform%3DDesktop&hl=fr&oco=0)"
   ]
  },
  {
   "cell_type": "markdown",
   "metadata": {},
   "source": [
    "**Réponse** :"
   ]
  },
  {
   "cell_type": "markdown",
   "metadata": {},
   "source": [
    "*Double-cliquer pour répondre*"
   ]
  },
  {
   "cell_type": "markdown",
   "metadata": {},
   "source": [
    "---\n",
    "## ÉTAPE 3 : Deuxième enquête...\n",
    "---"
   ]
  },
  {
   "cell_type": "markdown",
   "metadata": {},
   "source": [
    "Rendez-vous sur le même site : [http://metapicz.com/#landing](http://metapicz.com/#landing).  \n",
    "Insérer la photo maintenant *mer.jpg* sur cette application WEB et répondez aux questions ci-dessous :"
   ]
  },
  {
   "cell_type": "markdown",
   "metadata": {},
   "source": [
    "### <i class=\"fa fa-question-circle fa-lg\"></i>  QUESTION 6"
   ]
  },
  {
   "cell_type": "markdown",
   "metadata": {},
   "source": [
    "*Avec quel type d’appareil la photo a-t-elle été prise ?*"
   ]
  },
  {
   "cell_type": "markdown",
   "metadata": {},
   "source": [
    "**Réponse** :"
   ]
  },
  {
   "cell_type": "markdown",
   "metadata": {},
   "source": [
    " *Double-cliquer pour répondre*"
   ]
  },
  {
   "cell_type": "markdown",
   "metadata": {},
   "source": [
    "### <i class=\"fa fa-question-circle fa-lg\"></i>  QUESTION 7"
   ]
  },
  {
   "cell_type": "markdown",
   "metadata": {},
   "source": [
    "*Où la photo a-t-elle été prise ?*"
   ]
  },
  {
   "cell_type": "markdown",
   "metadata": {},
   "source": [
    "**Réponse** :"
   ]
  },
  {
   "cell_type": "markdown",
   "metadata": {},
   "source": [
    "*Double-cliquer pour répondre* "
   ]
  },
  {
   "cell_type": "markdown",
   "metadata": {},
   "source": [
    "### <i class=\"fa fa-question-circle fa-lg\"></i>  QUESTION 8"
   ]
  },
  {
   "cell_type": "markdown",
   "metadata": {},
   "source": [
    "*À quelle date et à quelle heure cette photo a-t-elle été prise ?*"
   ]
  },
  {
   "cell_type": "markdown",
   "metadata": {},
   "source": [
    "**Réponse** :"
   ]
  },
  {
   "cell_type": "markdown",
   "metadata": {},
   "source": [
    "*Double-cliquer pour répondre* "
   ]
  },
  {
   "cell_type": "markdown",
   "metadata": {},
   "source": [
    "### <i class=\"fa fa-question-circle fa-lg\"></i>  QUESTION 9"
   ]
  },
  {
   "cell_type": "markdown",
   "metadata": {},
   "source": [
    "*Quelle est la définition de cette image ?*"
   ]
  },
  {
   "cell_type": "markdown",
   "metadata": {},
   "source": [
    "**Réponse** :"
   ]
  },
  {
   "cell_type": "markdown",
   "metadata": {},
   "source": [
    "*Double-cliquer pour répondre* "
   ]
  },
  {
   "cell_type": "markdown",
   "metadata": {},
   "source": [
    "---\n",
    "## ÉTAPE 4 : Fait maison\n",
    "---\n",
    "\n",
    "Les metadonnées peuvent aussi être récupérées en écrivant un algorithme en Python. Pour cela, il existe une bibliothèque nommée PIL (Pillow) à laquelle on fait appel.  \n",
    "Pour travailler avec nos photographies, il est nécessaire de les déposer à côté de notre notebook Jupyter :  \n",
    "- aller sur **Jupyter** si ce document est en version papier sinon vous y êtes déjà !"
   ]
  },
  {
   "cell_type": "markdown",
   "metadata": {},
   "source": [
    "### <i class=\"fa fa-question-circle fa-lg\"></i>  QUESTION 10"
   ]
  },
  {
   "cell_type": "markdown",
   "metadata": {},
   "source": [
    "*Double-cliquer sur la cellule contenant l'algorithme ci-dessous et le compléter afin qu'il affiche les metadonnées de la photographie \"*ete.jpg*\" stockées dans la variable `data`. \n",
    "Recopier cet algorithme sur votre document réponse."
   ]
  },
  {
   "cell_type": "markdown",
   "metadata": {},
   "source": [
    "Voici l'algorithme à compléter puis à exécuter :"
   ]
  },
  {
   "cell_type": "code",
   "execution_count": null,
   "metadata": {
    "scrolled": true
   },
   "outputs": [],
   "source": [
    "from PIL import Image\n",
    "mon_image = Image.open(\"???\")\n",
    "data = mon_image._getexif()\n",
    "print(???)\n"
   ]
  },
  {
   "cell_type": "markdown",
   "metadata": {},
   "source": [
    "### <i class=\"fa fa-question-circle fa-lg\"></i>  QUESTION 11"
   ]
  },
  {
   "cell_type": "markdown",
   "metadata": {},
   "source": [
    "**Modifier l'algorithme ci-dessous pour afficher les *métadonnées* de la photo \"*vacances.jpg*\" :**"
   ]
  },
  {
   "cell_type": "code",
   "execution_count": null,
   "metadata": {},
   "outputs": [],
   "source": [
    "from PIL import Image\n",
    "mon_image = ???\n",
    "data = mon_image._getexif()\n",
    "#Instruction pour Afficher data :\n"
   ]
  },
  {
   "cell_type": "markdown",
   "metadata": {},
   "source": [
    "### <i class=\"fa fa-question-circle fa-lg\"></i>  QUESTION 12"
   ]
  },
  {
   "cell_type": "markdown",
   "metadata": {},
   "source": [
    "**Où cette dernière photo a-t-elle été prise, quand et par quel appareil ?  \n",
    "Donner la taille ou *définition*  de cette photo.**"
   ]
  },
  {
   "cell_type": "markdown",
   "metadata": {},
   "source": [
    "**Réponse** :"
   ]
  },
  {
   "cell_type": "markdown",
   "metadata": {},
   "source": [
    "*Double-cliquer pour répondre* "
   ]
  }
 ],
 "metadata": {
  "kernelspec": {
   "display_name": "Python 3",
   "language": "python",
   "name": "python3"
  },
  "language_info": {
   "codemirror_mode": {
    "name": "ipython",
    "version": 3
   },
   "file_extension": ".py",
   "mimetype": "text/x-python",
   "name": "python",
   "nbconvert_exporter": "python",
   "pygments_lexer": "ipython3",
   "version": "3.6.9"
  }
 },
 "nbformat": 4,
 "nbformat_minor": 4
}
