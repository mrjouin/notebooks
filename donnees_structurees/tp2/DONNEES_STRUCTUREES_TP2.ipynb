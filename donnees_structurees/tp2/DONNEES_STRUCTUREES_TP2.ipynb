{
 "cells": [
  {
   "cell_type": "markdown",
   "metadata": {},
   "source": [
    "# SNT - DONNÉES STRUCTURÉES - TP3 - PYTHON CSV \n",
    "## Questionnaire : https://forms.office.com/e/31rQkdGQpn"
   ]
  },
  {
   "cell_type": "markdown",
   "metadata": {},
   "source": [
    "*Données au format CSV*"
   ]
  },
  {
   "cell_type": "markdown",
   "metadata": {},
   "source": [
    "---\n",
    "## 1. LES LISTES"
   ]
  },
  {
   "cell_type": "markdown",
   "metadata": {},
   "source": [
    "Pour manipuler les fichiers CSV, Python embarque une bibliothèque nommée `csv`. Cependant, nous allons utiliser une autre bibliothèque plus performante avec les fichiers de taille importante : `pandas`."
   ]
  },
  {
   "cell_type": "markdown",
   "metadata": {},
   "source": [
    "---\n",
    "## 2. CHARGEONS LES DONNÉES EN MÉMOIRE"
   ]
  },
  {
   "cell_type": "markdown",
   "metadata": {},
   "source": [
    "***Vous allez maintenant travailler sur un fichier CSV contenant des informations autour de milliers de films et séries issue du site http://www.kaggle.com***"
   ]
  },
  {
   "cell_type": "markdown",
   "metadata": {},
   "source": [
    "Exécuter la cellule ci-dessous :"
   ]
  },
  {
   "cell_type": "code",
   "execution_count": null,
   "metadata": {},
   "outputs": [],
   "source": [
    "# Programme 1\n",
    "\n",
    "# Importer la bibliothèque Pandas :\n",
    "import pandas\n",
    "\n",
    "# On charge en mémoire le fichier imdb.csv :\n",
    "collection = pandas.read_csv('imdb.csv', sep = ',')\n",
    "print(collection)"
   ]
  },
  {
   "cell_type": "markdown",
   "metadata": {},
   "source": [
    "---\n",
    "## **QUESTIONS A**\n",
    "\n",
    "1. Quelle est le nom du 5ème média ?\n",
    "2. Quelles sont les autres informations données ?\n",
    "3. Combien y-a-t-il de médias référencés dans cette collection ?\n",
    "---"
   ]
  },
  {
   "cell_type": "markdown",
   "metadata": {},
   "source": [
    "### Modifions l'affichage de la collection de données"
   ]
  },
  {
   "cell_type": "markdown",
   "metadata": {},
   "source": [
    "Pour afficher la collection de médias on peut aussi taper simplement `collection`.  \n",
    "Tester cela dans la cellule `Instruction 1` ci-dessous :"
   ]
  },
  {
   "cell_type": "code",
   "execution_count": null,
   "metadata": {
    "code_folding": []
   },
   "outputs": [],
   "source": [
    "# Instruction 1\n"
   ]
  },
  {
   "cell_type": "markdown",
   "metadata": {},
   "source": [
    "### Informations concernant la collection de données"
   ]
  },
  {
   "cell_type": "markdown",
   "metadata": {},
   "source": [
    "Ajouter les deux lignes ci-dessous au programme 1 avant la fonction affichant la collection et exécuter de nouveau le programme 1 et l'instrtuction 1 :  \n",
    "```\n",
    "pandas.set_option('display.max_rows', None)\n",
    "pandas.set_option('display.max_columns', None)\n",
    "```"
   ]
  },
  {
   "cell_type": "markdown",
   "metadata": {},
   "source": [
    "---\n",
    "## **QUESTIONS B**\n",
    "\n",
    "1. A quoi ont servi les deux instructions ajoutées au programme 1 ?\n",
    "2. Dans la cellule ci-dessous (nommée `Instruction 2`), entrer l'instruction :  \n",
    "\n",
    "```\n",
    "print(collection.shape())\n",
    "```\n",
    "\n",
    "Quel est son rôle ?\n",
    "\n",
    "---"
   ]
  },
  {
   "cell_type": "code",
   "execution_count": null,
   "metadata": {},
   "outputs": [],
   "source": [
    "# Instruction 2"
   ]
  },
  {
   "cell_type": "markdown",
   "metadata": {},
   "source": [
    "---\n",
    "## 3. JOUONS AVEC LES DONNÉES"
   ]
  },
  {
   "cell_type": "markdown",
   "metadata": {},
   "source": [
    "### Les descripteurs\n",
    "Exécuter les instructions ci-dessous :"
   ]
  },
  {
   "cell_type": "code",
   "execution_count": null,
   "metadata": {},
   "outputs": [],
   "source": [
    "# Instruction 3\n",
    "collection.columns\n"
   ]
  },
  {
   "cell_type": "code",
   "execution_count": null,
   "metadata": {},
   "outputs": [],
   "source": [
    "# Instruction 4\n",
    "collection.Genre"
   ]
  },
  {
   "cell_type": "markdown",
   "metadata": {},
   "source": [
    "On peut aussi afficher les valeurs de plusieurs colonnes choisies !"
   ]
  },
  {
   "cell_type": "code",
   "execution_count": null,
   "metadata": {},
   "outputs": [],
   "source": [
    "# Instruction 5\n",
    "collection['Genre']"
   ]
  },
  {
   "cell_type": "code",
   "execution_count": null,
   "metadata": {},
   "outputs": [],
   "source": [
    "# Instruction 6\n",
    "collection[['Genre', 'Name']]"
   ]
  },
  {
   "cell_type": "markdown",
   "metadata": {},
   "source": [
    "---\n",
    "## **QUESTIONS C**\n",
    "\n",
    "1. Combien y-aa--t-il de descripteurs ? Les nommer.\n",
    "2. Modifier l'`Instruction 5` afin de n'afficher que le nom des médias. Ecrire cette instruction sur votre feuille.\n",
    "2. Modifier l'`Instruction 6` afin de n'afficher que le nom des médias et leur note. Ecrire cette instruction sur votre feuille.\n",
    "---"
   ]
  },
  {
   "cell_type": "markdown",
   "metadata": {},
   "source": [
    "---\n",
    "## 4. POSITION D'OBJETS OU D'ENREGISTREMENTS DANS LA COLLECTION ##\n",
    "\n"
   ]
  },
  {
   "cell_type": "markdown",
   "metadata": {},
   "source": [
    "### Pour obtenir le nombre d'enregistrements dans la collection, on peut aussi utiliser la fonction `.index`qui renvoie l'étendue des index utilisés :###"
   ]
  },
  {
   "cell_type": "markdown",
   "metadata": {},
   "source": [
    "Exécuter la cellule ci-dessous :"
   ]
  },
  {
   "cell_type": "code",
   "execution_count": null,
   "metadata": {},
   "outputs": [],
   "source": [
    "collection.index"
   ]
  },
  {
   "cell_type": "markdown",
   "metadata": {},
   "source": [
    "### Afficher des enregistrements par leur index###"
   ]
  },
  {
   "cell_type": "markdown",
   "metadata": {},
   "source": [
    "Exécuter les instructions ci-dessous et oberver les résultats obtenus."
   ]
  },
  {
   "cell_type": "code",
   "execution_count": null,
   "metadata": {},
   "outputs": [],
   "source": [
    "# Instruction 7\n",
    "# Afficher le film/série d'index 100 dans notre collection\n",
    "\n",
    "collection.iloc[100]"
   ]
  },
  {
   "cell_type": "code",
   "execution_count": null,
   "metadata": {},
   "outputs": [],
   "source": [
    "# Instruction 8\n",
    "\n",
    "collection.iloc[[50,200,3217]]"
   ]
  },
  {
   "cell_type": "code",
   "execution_count": null,
   "metadata": {},
   "outputs": [],
   "source": [
    "# Instruction 9\n",
    "\n",
    "collection.iloc[5:12]"
   ]
  },
  {
   "cell_type": "markdown",
   "metadata": {},
   "source": [
    "---\n",
    "## **QUESTIONS D**\n",
    "\n",
    "1. Quel est le nom et la note du média d'indice 1994 ? Écrire leur nom sur votre feuille.\n",
    "2. Modifier l'`Instruction 8` afin qu'elle affiche les médias d'indice 1919 et 4149. Écrire leur nom sur votre feuille.\n",
    "---\n"
   ]
  },
  {
   "cell_type": "markdown",
   "metadata": {},
   "source": [
    "---\n",
    "## 5. EFFECTUER DES RECHERCHES"
   ]
  },
  {
   "cell_type": "markdown",
   "metadata": {},
   "source": [
    "L'intérêt d'utiliser Python pour manipuler des données est que, d'une part, ce dernier a de nombreux outils performants pour effectuer des recherches et manipuler du texte, et d'autre part que nous pouvons automatiser ces manipulations.\n",
    "\n",
    "Par exemple, on peut envisager la création d'un algorithme qui détecterait des doublons dans une playlist et les supprimerait, ou qui croiserait les données d'une base avec les données d'une autre base."
   ]
  },
  {
   "cell_type": "markdown",
   "metadata": {},
   "source": [
    "### Récupérer une valeur dans un enregistrement dont l'index est connu###"
   ]
  },
  {
   "cell_type": "markdown",
   "metadata": {},
   "source": [
    "Exécutez le code suivant :"
   ]
  },
  {
   "cell_type": "code",
   "execution_count": null,
   "metadata": {
    "scrolled": false
   },
   "outputs": [],
   "source": [
    "recherche = collection.loc[659,['Name']]\n",
    "print(\"Le nom du film/série d'indice 659 dans cette liste est : \", format(recherche))"
   ]
  },
  {
   "cell_type": "markdown",
   "metadata": {},
   "source": [
    "Inspirez-vous de l'exemple précédent pour déterminer le titre, l'année de sortie du 5585-ième média :"
   ]
  },
  {
   "cell_type": "code",
   "execution_count": null,
   "metadata": {
    "scrolled": false
   },
   "outputs": [],
   "source": [
    "# À vous de jouer :\n",
    "recherche = \n"
   ]
  },
  {
   "cell_type": "markdown",
   "metadata": {},
   "source": [
    "### Récupérer et trier les enregistrements vérifiant une condition donnée :###\n",
    "\n",
    "Dans la cellule ci-dessous, exécutez ce `Programme 3`:  "
   ]
  },
  {
   "cell_type": "code",
   "execution_count": null,
   "metadata": {},
   "outputs": [],
   "source": [
    "# Programme 3\n",
    "recherche = collection.loc[(collection['Name'] == 'Bluey')]\n",
    "print(recherche[['Name','Votes','Rate']])"
   ]
  },
  {
   "cell_type": "markdown",
   "metadata": {},
   "source": [
    "---\n",
    "## **QUESTION E**\n",
    "\n",
    "1. Que fait le programme 3 ?\n",
    "2. Le modifier afin qu'il affiche les mêmes informations pour la série *Game of Thrones* (Attention aux majuscules et à l'orthographe !). \n",
    "---"
   ]
  },
  {
   "cell_type": "markdown",
   "metadata": {},
   "source": [
    "## 6. TRIER LES RECHERCHES  \n",
    "\n",
    "Exécuter le programme 4 ci-dessous : oberserver et analyser..."
   ]
  },
  {
   "cell_type": "code",
   "execution_count": null,
   "metadata": {},
   "outputs": [],
   "source": [
    "# À vous de jouer 1 :\n",
    "# Affichez cette collection triée par nom dans l'ordre alphabétique :\n",
    "marecherche = collection.loc[(collection['Rate'] > 8)]\n",
    "tri  = marecherche.sort_values(by = \"Rate\", ascending = True)\n",
    "print(tri[['Name','Rate']])"
   ]
  },
  {
   "cell_type": "markdown",
   "metadata": {},
   "source": [
    "---\n",
    "## **QUESTION F**\n",
    "\n",
    "1. Que fait le `Programme 4` ?\n",
    "2. Le modifier afin que les médias soient affichées dans l'ordre alphabétique du nom.\n",
    "---"
   ]
  },
  {
   "cell_type": "code",
   "execution_count": null,
   "metadata": {},
   "outputs": [],
   "source": []
  }
 ],
 "metadata": {
  "hide_input": false,
  "kernelspec": {
   "display_name": "Python 3",
   "language": "python",
   "name": "python3"
  },
  "language_info": {
   "codemirror_mode": {
    "name": "ipython",
    "version": 3
   },
   "file_extension": ".py",
   "mimetype": "text/x-python",
   "name": "python",
   "nbconvert_exporter": "python",
   "pygments_lexer": "ipython3",
   "version": "3.7.3"
  }
 },
 "nbformat": 4,
 "nbformat_minor": 2
}
