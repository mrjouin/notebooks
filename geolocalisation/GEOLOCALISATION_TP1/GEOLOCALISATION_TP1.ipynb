{
 "cells": [
  {
   "cell_type": "markdown",
   "metadata": {},
   "source": [
    "# Thème 5 : Cartographie, Géolocalisation\n",
    "\n",
    "## TP1 : Introduction avec Python (parse et listes)\n",
    "---"
   ]
  },
  {
   "cell_type": "markdown",
   "metadata": {},
   "source": [
    "---\n",
    "###\t1. CONCATÉNATION DE CHAÎNES DE CARACTÈRES \n",
    "---"
   ]
  },
  {
   "cell_type": "markdown",
   "metadata": {},
   "source": [
    "L'opération d'assembler plusieurs petites chaînes pour en construire une plus grande s'appelle concaténation et on la réalise sous Python à l'aide de l'opérateur \"+\"."
   ]
  },
  {
   "cell_type": "code",
   "execution_count": null,
   "metadata": {},
   "outputs": [],
   "source": [
    "#Exemple de concaténation\n",
    "a = \"renard\"\n",
    "b = \"eau\"\n",
    "print(a+b)\n",
    "print(a,b)"
   ]
  },
  {
   "cell_type": "markdown",
   "metadata": {},
   "source": [
    "---\n",
    "### 2. PARCOURS D'UNE LISTE\n",
    "---\n",
    "Le parcours d'une séquence est une opération très fréquente en programmation. Pour en faciliter l'écriture, Python vous propose une structure de boucle plus appropriée, basée sur le couple d'instructions extrêmement populaire (roulement de tambours...) :  \n",
    "```for ... in ...```\n",
    "\n",
    "On teste ? de toute façon, vous n’avez pas le choix ! :-p  \n",
    "\n",
    "**Exécuter ce tout petit code et observer le résultat magistral :**"
   ]
  },
  {
   "cell_type": "code",
   "execution_count": null,
   "metadata": {},
   "outputs": [],
   "source": [
    "for index in 'La baie de San Francisco pour seul horizon...' :\n",
    "    print(index)"
   ]
  },
  {
   "cell_type": "markdown",
   "metadata": {},
   "source": [
    "---\n",
    "### 3. LA MÉTHODE `split()` \n",
    "---\n",
    "\n",
    "La méthode `split` permet de séparer une chaîne de caractère par rapport à un caractère donné en paramètre comme une virgule, un point, un espace par exemple."
   ]
  },
  {
   "cell_type": "code",
   "execution_count": null,
   "metadata": {},
   "outputs": [],
   "source": [
    "#Exemple d'usage de split\n",
    "ch = \"Programmation en Python\"\n",
    "ch = ch.split(\"m\")\n",
    "print(ch)"
   ]
  },
  {
   "cell_type": "markdown",
   "metadata": {},
   "source": [
    "---\n",
    "### 3. TRAME NMEA\n",
    "\n",
    "La norme `NMEA 0183` est le protocole de transmission des données *GPS*. Ces données sont transmises sous la forme de trames. Chaque trame commence par le caractère `$` et se compose de plusieurs éléments séparés par des virgules. Voici un exemple de trame :\n",
    "\n",
    "> `$GPGGA, 064036.289, 4836.5375, N, 00740. 9373, E, 1, 04, 3.2, 200.2, M, , , , 0000*0E$`"
   ]
  },
  {
   "cell_type": "code",
   "execution_count": 38,
   "metadata": {},
   "outputs": [
    {
     "name": "stdout",
     "output_type": "stream",
     "text": [
      "['$GPGGA,', '064036.289,', '4836.5375,', 'N,', '00740.9373,', 'E,', '1,', '04,', '3.2,', '200.2,', 'M,', ',', ',', ',', '0000*0E']\n"
     ]
    }
   ],
   "source": [
    "#ALGORITHME\n",
    "\n",
    "#on ouvre le fichier en lecture seule avec ‘r’ et on précise l’encodage\n",
    "trame = \"$GPGGA, 064036.289, 4836.5375, N, 00740.9373, E, 1, 04, 3.2, 200.2, M, , , , 0000*0E\"\n",
    "\n",
    "#Python « découpe » le fichier en lignes\n",
    "liste_mots = trame.split()\n",
    "print(liste_mots)\n"
   ]
  },
  {
   "cell_type": "markdown",
   "metadata": {},
   "source": [
    "<i class=\"fa fa-question-circle fa-lg\"></i>  **Effectuer une recherche sur l’acronyme « NMEA » et décrire ce à quoi correspond chacune de ces données.**"
   ]
  },
  {
   "cell_type": "markdown",
   "metadata": {},
   "source": [
    "**RÉPONSE :**"
   ]
  },
  {
   "cell_type": "markdown",
   "metadata": {},
   "source": [
    "---\n",
    "### 4. TRAVAIL : ANALYSE D'UNE TRAME DANS UN FICHIER\n",
    "\n",
    "Une trame NMEA est désormais fournie dans un fichier texte nommé `fichierNMEA.txt`.  \n",
    "Exécuter l'algorithme ci-dessous :"
   ]
  },
  {
   "cell_type": "code",
   "execution_count": 26,
   "metadata": {},
   "outputs": [
    {
     "name": "stdout",
     "output_type": "stream",
     "text": [
      "['$GPGGA', '135830.00', '5017.430541', 'N', '00232.923257', 'E', '1', '13', '0.4', '73.7', 'M', '47.2', 'M\\U0010fc00*5C']\n"
     ]
    }
   ],
   "source": [
    "#ALGORITHME\n",
    "from math import floor\n",
    "#on ouvre le fichier en lecture seule avec ‘r’ et on précise l’encodage\n",
    "source = open(\"fichierNMEA.txt\",'r',encoding=\"UTF8\")\n",
    "\n",
    "#Python « découpe » le fichier en lignes\n",
    "trame = source.readlines()\n",
    "\n",
    "for i in trame :\n",
    "    lignes = i.split()\n",
    "    for j in lignes :\n",
    "        donnees  = j.split(',')\n",
    "        print(donnees)\n",
    "    \n",
    "source.close()"
   ]
  },
  {
   "cell_type": "markdown",
   "metadata": {},
   "source": [
    "---\n",
    "#### ÉNONCÉ :\n",
    "---\n",
    "\n",
    "Les cooordonnées de notre trame sont données en `DM`, c'est à dire en *Degrés Minutes*.  \n",
    ">*Exemple :*  \n",
    "7212,8712 correspond à 72° 12,8715', soit 72 degrés et 12,8715 minutes.  \n",
    "Il est donc nécessaire de convertir 0,8715 en secondes en multipliant par 60 :  \n",
    "$0,8715 \\times 60 = 52,29$ secondes  \n",
    "On a donc 72° 12' 52,29''...\n",
    "\n",
    "#### Écrire une fonction nommée `obtLat()`qui :\n",
    ">- récupère la latitude dans la trame et la convertit en nombre réel,\n",
    "- convertit cette latitude en en DMS (Degrés Minutes Secondes), et l'affiche !  \n",
    "\n",
    "**Remarque :**\n",
    "le bout de code ci-dessous peut vous être utile..."
   ]
  },
  {
   "cell_type": "code",
   "execution_count": 37,
   "metadata": {},
   "outputs": [
    {
     "name": "stdout",
     "output_type": "stream",
     "text": [
      "3\n",
      "562\n"
     ]
    }
   ],
   "source": [
    "from math import floor\n",
    "a = floor(3.14)\n",
    "b = floor(562.8765)\n",
    "print(a)\n",
    "print(b)"
   ]
  },
  {
   "cell_type": "code",
   "execution_count": 27,
   "metadata": {},
   "outputs": [],
   "source": [
    "# Votre fonction"
   ]
  },
  {
   "cell_type": "code",
   "execution_count": null,
   "metadata": {},
   "outputs": [],
   "source": [
    ")"
   ]
  }
 ],
 "metadata": {
  "kernelspec": {
   "display_name": "Python 3",
   "language": "python",
   "name": "python3"
  },
  "language_info": {
   "codemirror_mode": {
    "name": "ipython",
    "version": 3
   },
   "file_extension": ".py",
   "mimetype": "text/x-python",
   "name": "python",
   "nbconvert_exporter": "python",
   "pygments_lexer": "ipython3",
   "version": "3.6.9"
  }
 },
 "nbformat": 4,
 "nbformat_minor": 4
}
