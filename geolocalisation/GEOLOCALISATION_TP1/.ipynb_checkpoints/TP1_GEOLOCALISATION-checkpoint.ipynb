{
 "cells": [
  {
   "cell_type": "markdown",
   "metadata": {},
   "source": [
    "# Thème 4 : Cartographie, Géolocalisation\n",
    "---\n",
    "## TP1 : Introduction avec Python (parse et listes)\n",
    "---"
   ]
  },
  {
   "cell_type": "markdown",
   "metadata": {},
   "source": [
    "---\n",
    "### A. LES LISTES\n",
    "---"
   ]
  },
  {
   "cell_type": "markdown",
   "metadata": {},
   "source": [
    "Les listes sont des séquences ordonnées de données accessibles par leur indice, et les listes peuvent contenir tous les types de données (entiers, caractères, ou bien même des listes !)."
   ]
  },
  {
   "cell_type": "markdown",
   "metadata": {},
   "source": [
    "On peut créer une liste vide nommée *liste* de cette façon : `liste[]`"
   ]
  },
  {
   "cell_type": "markdown",
   "metadata": {},
   "source": [
    "Ou bien une liste déjà initialisée : \n",
    "![im1_listes.png](im1_listes.png)"
   ]
  },
  {
   "cell_type": "markdown",
   "metadata": {},
   "source": [
    "### Q.A1 <i class=\"fa fa-cog fa-spin fa-3x fa-fw\"></i>\n",
    "<span class=\"sr-only\">Loading...</span> \n",
    "\n",
    "Recopier chaque ligne dans la cellule Python ci-dessous et l'exécuter."
   ]
  },
  {
   "cell_type": "code",
   "execution_count": null,
   "metadata": {},
   "outputs": [],
   "source": []
  },
  {
   "cell_type": "markdown",
   "metadata": {},
   "source": [
    "### Q.A2 <i class=\"fa fa-cog fa-spin fa-3x fa-fw\"></i>\n",
    "<span class=\"sr-only\">Loading...</span>\n",
    "\n",
    "Puis entrer l’instruction suivante, toujours dans la console :\t`fruits[2]`."
   ]
  },
  {
   "cell_type": "code",
   "execution_count": null,
   "metadata": {},
   "outputs": [],
   "source": []
  },
  {
   "cell_type": "markdown",
   "metadata": {},
   "source": [
    "### Q.A3 <i class=\"fa fa-cog fa-spin fa-3x fa-fw\"></i>\n",
    "<span class=\"sr-only\">Loading...</span>\n",
    "\n",
    "Que retourne-t-elle ?\n",
    "\n",
    "Que retourne l’instruction :\t`prenoms[4]` ?\n",
    "\n",
    "Et l’instruction :\t\t`prenoms[-1]` ?"
   ]
  },
  {
   "cell_type": "markdown",
   "metadata": {},
   "source": [
    "*Répondre ici en double-cliquant*."
   ]
  },
  {
   "cell_type": "markdown",
   "metadata": {},
   "source": [
    "Essayer ci-dessous d’obtenir pour résultat *tomate* avec deux index différents."
   ]
  },
  {
   "cell_type": "code",
   "execution_count": null,
   "metadata": {},
   "outputs": [],
   "source": []
  },
  {
   "cell_type": "markdown",
   "metadata": {},
   "source": [
    "Ajoutez maintenant un prénom à notre liste *prenoms* en utilisant la méthode `.append()`:\n",
    "![Méthode append](im2_append.png)"
   ]
  },
  {
   "cell_type": "code",
   "execution_count": null,
   "metadata": {},
   "outputs": [],
   "source": []
  },
  {
   "cell_type": "markdown",
   "metadata": {},
   "source": [
    "### Q.A4 <i class=\"fa fa-cog fa-spin fa-3x fa-fw\"></i>\n",
    "<span class=\"sr-only\">Loading...</span>\n",
    "Vérifier ci-dessous que cela fonctionne avec les instructions :\n",
    " - `prenoms`\n",
    " - `print(prenoms)`\n"
   ]
  },
  {
   "cell_type": "code",
   "execution_count": null,
   "metadata": {},
   "outputs": [],
   "source": []
  },
  {
   "cell_type": "markdown",
   "metadata": {},
   "source": [
    "### Q.A5 <i class=\"fa fa-cog fa-spin fa-3x fa-fw\"></i>\n",
    "<span class=\"sr-only\">Loading...</span> A vous de jouer : ajoutez le fruit  *kiwi* dans la liste **fruits**. "
   ]
  },
  {
   "cell_type": "code",
   "execution_count": null,
   "metadata": {},
   "outputs": [],
   "source": []
  },
  {
   "cell_type": "markdown",
   "metadata": {},
   "source": [
    "Vérifiez votre travail avec les instructions :\n",
    "- `fruits`\n",
    "- `print(fruits)`"
   ]
  },
  {
   "cell_type": "code",
   "execution_count": null,
   "metadata": {},
   "outputs": [],
   "source": []
  },
  {
   "cell_type": "markdown",
   "metadata": {},
   "source": [
    "#### Mais alors, comment faire pour changer un élément d’une liste ?\n",
    "\n",
    "Par exemple, imaginons que dans notre liste *prenoms*, il faille changer *Pauline* par *Aline*…"
   ]
  },
  {
   "cell_type": "markdown",
   "metadata": {},
   "source": [
    "### Q.A6 <i class=\"fa fa-cog fa-spin fa-3x fa-fw\"></i>\n",
    "<span class=\"sr-only\">Loading...</span>\n",
    "Quel est l’index de l’élément *Pauline* ? Utiliser la cellule de code ci-dessous pour chercher et la cellule du dessous pour répondre."
   ]
  },
  {
   "cell_type": "code",
   "execution_count": null,
   "metadata": {},
   "outputs": [],
   "source": []
  },
  {
   "cell_type": "markdown",
   "metadata": {},
   "source": [
    "*Répondre ici en double-cliquant*."
   ]
  },
  {
   "cell_type": "markdown",
   "metadata": {},
   "source": [
    "Quelle est alors l’instruction qui désigne cet élément ?"
   ]
  },
  {
   "cell_type": "markdown",
   "metadata": {},
   "source": [
    "*Répondre ici en double-cliquant*."
   ]
  },
  {
   "cell_type": "markdown",
   "metadata": {},
   "source": [
    "<i class=\"fa fa-cog fa-spin fa-3x fa-fw\"></i>\n",
    "<span class=\"sr-only\">Loading...</span>\n",
    "Testons donc l’instruction : `prenoms[0] = Aline` dans la cellule ci-dessous :"
   ]
  },
  {
   "cell_type": "code",
   "execution_count": null,
   "metadata": {},
   "outputs": [],
   "source": []
  },
  {
   "cell_type": "markdown",
   "metadata": {},
   "source": [
    "### Q.A7 A vous de jouer : \n",
    "\n",
    "*Tic&Tac* ont décidé de changer le *c* de leur prénom pour un *k*. \n",
    "(*Pourquoi donc ? Cela, hélas, on ne le saura jamais, Monsieur…*)\n",
    "\n",
    "Quelles sont les deux instructions à écrire ? Faîtes-le !\n"
   ]
  },
  {
   "cell_type": "code",
   "execution_count": null,
   "metadata": {},
   "outputs": [],
   "source": []
  },
  {
   "cell_type": "markdown",
   "metadata": {},
   "source": [
    "*Répondre ici en double-cliquant*."
   ]
  },
  {
   "cell_type": "markdown",
   "metadata": {},
   "source": [
    "---\n",
    "#### Plusieurs méthodes, permettant la manipulation des listes, existent  :  \n",
    "\n",
    "- `.insert(x)` : insère l'élément *x* dans la liste à l'indice donné en premier argument ;\n",
    "- `.sort()` : range dans l'ordre croissant les éléments de la liste, et dans l'ordre décroissant si on passe l'argument `reverse`est positionné à `True` ;\n",
    "- `.reverse()`: inverse l'ordre des éléments dans la liste ;\n",
    "- `.remove(x)`: retire l'objet *x* passé en argument de la liste. S'il y est présent plusieurs fois, seule la première occurence sera retirée."
   ]
  },
  {
   "cell_type": "markdown",
   "metadata": {},
   "source": [
    "---\n",
    "#### Les différentes fonctions de manipulation de listes sont  :  \n",
    "\n",
    "- `del(x)` : supprime la liste définitivement ;\n",
    "- `max()` : donne l'lélément maximum de la liste ;\n",
    "- `min()`: donne l'lélément minimum de la liste ;"
   ]
  },
  {
   "cell_type": "markdown",
   "metadata": {},
   "source": [
    "---\n",
    "### B. LES CHAÎNES DE CARACTÈRES\n",
    "---"
   ]
  },
  {
   "cell_type": "markdown",
   "metadata": {},
   "source": [
    "Les **chaînes de caractères** (*string* en anglais) sont des **listes de caractères**. On parle de chaînage car les caractères se suivent et chaque caractère a sa place, comme les maillons d'une chaîne. \n",
    "\n",
    "Il est ainsi possible de faire apparaître plusieurs fois le même caractère dans une chaîne, afin de manipuler des phrases par exemple.\n",
    "\n",
    "<i class=\"fa fa-cog fa-spin fa-3x fa-fw\"></i>\n",
    "<span class=\"sr-only\">Loading...</span>*Reproduire le code suivant et l'exécuter :*\n",
    "\n",
    "![im3_chaines](im3_chaines.png)"
   ]
  },
  {
   "cell_type": "code",
   "execution_count": null,
   "metadata": {},
   "outputs": [],
   "source": []
  },
  {
   "cell_type": "markdown",
   "metadata": {},
   "source": [
    "#### Concaténation\n",
    "L'opération d'assembler plusieurs petites chaînes pour en construire une plus grande s'appelle **concaténation** et on la réalise sous Python à l'aide de l'opérateur `+`.\n",
    "\n",
    "![im4_concat](im4_concat.png)\n",
    "\n",
    "#### Parcours d'une liste\n",
    "Le parcours d'une séquence est une opération très fréquente en programmation. Pour en faciliter l'écriture, Python vous propose une structure de boucle plus appropriée, basée sur le couple d'instructions extrêmement populaire (roulement de tambours…) : \n",
    "\n",
    "`for ... in ...`\n",
    "\n",
    "On teste ? de toute façon, vous n’avez pas le choix ! :-p"
   ]
  },
  {
   "cell_type": "markdown",
   "metadata": {},
   "source": [
    "### Q.B1 <i class=\"fa fa-cog fa-spin fa-3x fa-fw\"></i>\n",
    "<span class=\"sr-only\">Loading...</span>\n",
    "Recopier ce tout petit code et observez le résultat magistral :\n",
    "\n",
    "![im5_boucle.png](im5_boucle.png)"
   ]
  },
  {
   "cell_type": "code",
   "execution_count": null,
   "metadata": {},
   "outputs": [],
   "source": []
  },
  {
   "cell_type": "markdown",
   "metadata": {},
   "source": [
    "#### La méthode `split()`\n",
    "    \n",
    "La méthode `split` permet de séparer une chaîne de caractère par rapport à un caractère donné en paramètre comme une virgule, un point, un espace par exemple.\n",
    "\n",
    "![im6_split.png](im6_split.png)\n",
    "\n",
    "### Q.B2 <i class=\"fa fa-cog fa-spin fa-3x fa-fw\"></i>\n",
    "<span class=\"sr-only\">Loading...</span>\n",
    "Recopier et tester ce code ci-dessous."
   ]
  },
  {
   "cell_type": "code",
   "execution_count": null,
   "metadata": {},
   "outputs": [],
   "source": []
  },
  {
   "cell_type": "markdown",
   "metadata": {},
   "source": [
    "### Q.B3 <i class=\"fa fa-cog fa-spin fa-3x fa-fw\"></i>\n",
    "<span class=\"sr-only\">Loading...</span>\n",
    "\n",
    "La méthode `split()`Tester à nouveau ce code en demandant cette fois de séparer la chaîne de caractères à chaque occurence de la lettre *o* :"
   ]
  },
  {
   "cell_type": "code",
   "execution_count": null,
   "metadata": {},
   "outputs": [],
   "source": []
  },
  {
   "cell_type": "markdown",
   "metadata": {},
   "source": [
    "---\n",
    "### C. TRAVAIL SUR DES FICHIERS DE DONNÉES\n",
    "---\n",
    "\n",
    "Nous allons demander à Python :\n",
    " - d’ouvrir le fichier *inconnu.txt* : .`open()` \n",
    " - en lecture : `'r'`\n",
    " - et d'en lire le contenu ligne par ligne : `.readlines()`\n",
    "\n",
    "### Q.C1 <i class=\"fa fa-cog fa-spin fa-3x fa-fw\"></i>\n",
    "<span class=\"sr-only\">Loading...</span>\n",
    "Recopiez ce code dans votre éditeur et exécutez-le :\n",
    "\n",
    "![im7_codefichinconnu.png](im7_codefichinconnu.png)\n"
   ]
  },
  {
   "cell_type": "code",
   "execution_count": null,
   "metadata": {},
   "outputs": [],
   "source": []
  },
  {
   "cell_type": "markdown",
   "metadata": {},
   "source": [
    "Que contient ce fichier ?"
   ]
  },
  {
   "cell_type": "markdown",
   "metadata": {},
   "source": [
    "*Répondre ici en double-cliquant*."
   ]
  },
  {
   "cell_type": "markdown",
   "metadata": {},
   "source": [
    "### D. MANIPULATION DU FICHIER *fichierNMEA.txt*\n",
    "\n",
    "### Q.D1 <i class=\"fa fa-cog fa-spin fa-3x fa-fw\"></i>\n",
    "<span class=\"sr-only\">Loading...</span> Pour finir, écrire ci-dessou un algorithme qui : \n",
    "\n",
    "- ouvre le fichier *fichierNMEA.txt* en lecture avec encodage *UTF8* ;\n",
    "- récupère les données et les affiche."
   ]
  },
  {
   "cell_type": "code",
   "execution_count": null,
   "metadata": {},
   "outputs": [],
   "source": []
  },
  {
   "cell_type": "markdown",
   "metadata": {},
   "source": [
    "Analyser ces données : que semblent-elles contenir ?"
   ]
  },
  {
   "cell_type": "markdown",
   "metadata": {},
   "source": [
    "*Répondre ici en double-cliquant*."
   ]
  }
 ],
 "metadata": {
  "kernelspec": {
   "display_name": "Python 3",
   "language": "python",
   "name": "python3"
  },
  "language_info": {
   "codemirror_mode": {
    "name": "ipython",
    "version": 3
   },
   "file_extension": ".py",
   "mimetype": "text/x-python",
   "name": "python",
   "nbconvert_exporter": "python",
   "pygments_lexer": "ipython3",
   "version": "3.6.9"
  }
 },
 "nbformat": 4,
 "nbformat_minor": 4
}
